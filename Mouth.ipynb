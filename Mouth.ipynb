{
 "cells": [
  {
   "cell_type": "code",
   "execution_count": 1,
   "metadata": {},
   "outputs": [],
   "source": [
    "import numpy as np\n",
    "import cv2\n",
    "import random\n",
    "import matplotlib.pyplot as plt\n"
   ]
  },
  {
   "cell_type": "code",
   "execution_count": 2,
   "metadata": {},
   "outputs": [],
   "source": [
    "import os\n",
    "cascPath = os.path.dirname(\n",
    "    cv2.__file__) + \"/data/haarcascade_frontalface_default.xml\"\n",
    "cascPath2 = os.path.dirname(\n",
    "    cv2.__file__) + \"/data/haarcascade_mcs_mouth.xml\""
   ]
  },
  {
   "cell_type": "code",
   "execution_count": 3,
   "metadata": {},
   "outputs": [],
   "source": [
    "face_cascade = cv2.CascadeClassifier(cascPath)\n",
    "#eye_cascade = cv2.CascadeClassifier('data\\\\xml\\\\haarcascade_eye.xml')\n",
    "mouth_cascade = cv2.CascadeClassifier(cascPath2)\n",
    "#upper_body = cv2.CascadeClassifier('data\\\\xml\\\\haarcascade_upperbody.xml')\n"
   ]
  },
  {
   "cell_type": "code",
   "execution_count": 4,
   "metadata": {},
   "outputs": [],
   "source": [
    "bw_threshold = 80"
   ]
  },
  {
   "cell_type": "code",
   "execution_count": 5,
   "metadata": {},
   "outputs": [],
   "source": [
    "#for message to be displayed to user\n",
    "\n",
    "font = cv2.FONT_HERSHEY_SIMPLEX\n",
    "#what is org for?\n",
    "org = (30, 30)\n",
    "weared_mask_font_color = (255, 255, 255)\n",
    "not_weared_mask_font_color = (0, 0, 255)\n",
    "thickness = 2\n",
    "font_scale = 1\n",
    "weared_mask = \"Thank You for wearing MASK\"\n",
    "not_weared_mask = \"Please wear MASK to defeat Corona\""
   ]
  },
  {
   "cell_type": "code",
   "execution_count": 6,
   "metadata": {},
   "outputs": [],
   "source": [
    "# 0 is for camera preference of laptop webcam, can add external vid source here\n",
    "cap = cv2.VideoCapture('mask.mp4')"
   ]
  },
  {
   "cell_type": "code",
   "execution_count": 7,
   "metadata": {},
   "outputs": [
    {
     "ename": "error",
     "evalue": "OpenCV(4.2.0) C:\\projects\\opencv-python\\opencv\\modules\\imgproc\\src\\color.cpp:182: error: (-215:Assertion failed) !_src.empty() in function 'cv::cvtColor'\n",
     "output_type": "error",
     "traceback": [
      "\u001b[1;31m---------------------------------------------------------------------------\u001b[0m",
      "\u001b[1;31merror\u001b[0m                                     Traceback (most recent call last)",
      "\u001b[1;32m<ipython-input-7-f24b490335c4>\u001b[0m in \u001b[0;36m<module>\u001b[1;34m\u001b[0m\n\u001b[0;32m      6\u001b[0m \u001b[1;33m\u001b[0m\u001b[0m\n\u001b[0;32m      7\u001b[0m     \u001b[1;31m# Convert Image into gray\u001b[0m\u001b[1;33m\u001b[0m\u001b[1;33m\u001b[0m\u001b[1;33m\u001b[0m\u001b[0m\n\u001b[1;32m----> 8\u001b[1;33m     \u001b[0mgray\u001b[0m \u001b[1;33m=\u001b[0m \u001b[0mcv2\u001b[0m\u001b[1;33m.\u001b[0m\u001b[0mcvtColor\u001b[0m\u001b[1;33m(\u001b[0m\u001b[0mimg\u001b[0m\u001b[1;33m,\u001b[0m \u001b[0mcv2\u001b[0m\u001b[1;33m.\u001b[0m\u001b[0mCOLOR_BGR2GRAY\u001b[0m\u001b[1;33m)\u001b[0m\u001b[1;33m\u001b[0m\u001b[1;33m\u001b[0m\u001b[0m\n\u001b[0m\u001b[0;32m      9\u001b[0m \u001b[1;33m\u001b[0m\u001b[0m\n\u001b[0;32m     10\u001b[0m \u001b[1;33m\u001b[0m\u001b[0m\n",
      "\u001b[1;31merror\u001b[0m: OpenCV(4.2.0) C:\\projects\\opencv-python\\opencv\\modules\\imgproc\\src\\color.cpp:182: error: (-215:Assertion failed) !_src.empty() in function 'cv::cvtColor'\n"
     ]
    }
   ],
   "source": [
    "while 1:\n",
    "    # Get individual frame\n",
    "    ret, img = cap.read()\n",
    "    img = cv2.flip(img,1)\n",
    "    \n",
    "\n",
    "    # Convert Image into gray\n",
    "    gray = cv2.cvtColor(img, cv2.COLOR_BGR2GRAY)\n",
    "    \n",
    "\n",
    "    # Convert image in black and white\n",
    "    (thresh, black_and_white) = cv2.threshold(gray, bw_threshold, 255, cv2.THRESH_BINARY)\n",
    "    #cv2.imshow('black_and_white', black_and_white)\n",
    "\n",
    "    # detect face\n",
    "    #faces = face_cascade.detectMultiScale(gray, 1.1, 4)\n",
    "    faces = face_cascade.detectMultiScale(gray,\n",
    "                                         scaleFactor=1.1,\n",
    "                                         minNeighbors=5,\n",
    "                                         minSize=(60, 60),\n",
    "                                         flags=cv2.CASCADE_SCALE_IMAGE)    \n",
    "\n",
    "\n",
    "    # Face prediction for black and white\n",
    "    faces_bw = face_cascade.detectMultiScale(black_and_white, 1.1, 4)"
   ]
  },
  {
   "cell_type": "code",
   "execution_count": null,
   "metadata": {},
   "outputs": [],
   "source": [
    "if(len(faces) == 0 and len(faces_bw) == 0):\n",
    "    cv2.putText(img, \"No face found...\", org, font, font_scale, weared_mask_font_color, thickness, cv2.LINE_AA)\n",
    "        \n",
    "elif(len(faces) == 0 and len(faces_bw) == 1):\n",
    "    # It has been observed that for white mask covering mouth, with gray image face prediction is not happening\n",
    "    cv2.putText(img, weared_mask, org, font, font_scale, weared_mask_font_color, thickness, cv2.LINE_AA)\n",
    "else:\n",
    "    # Draw rectangle on face\n",
    "    for (x, y, w, h) in faces:\n",
    "    cv2.rectangle(img, (x, y), (x + w, y + h), (255, 255, 255), 2)\n",
    "    roi_gray = gray[y:y + h, x:x + w]\n",
    "    roi_color = img[y:y + h, x:x + w]\n"
   ]
  },
  {
   "cell_type": "code",
   "execution_count": null,
   "metadata": {},
   "outputs": [],
   "source": [
    "# Detect lips counters\n",
    "mouth_rects = mouth_cascade.detectMultiScale(gray, 1.5, 5)\n"
   ]
  },
  {
   "cell_type": "code",
   "execution_count": null,
   "metadata": {},
   "outputs": [],
   "source": [
    "# Face detected but Lips not detected which means person is wearing mask\n",
    "if(len(mouth_rects) == 0):\n",
    "    cv2.putText(img, weared_mask, org, font, font_scale, weared_mask_font_color, thickness, cv2.LINE_AA)\n",
    "else:\n",
    "    for (mx, my, mw, mh) in mouth_rects:\n",
    "\n",
    "        if(y < my < y + h):\n",
    "            # Face and Lips are detected but lips coordinates are within face cordinates which `means lips prediction is true and\n",
    "            # person is not waring mask\n",
    "            cv2.putText(img, not_weared_mask, org, font, font_scale, not_weared_mask_font_color, thickness, cv2.LINE_AA)\n",
    "\n",
    "            #cv2.rectangle(img, (mx, my), (mx + mh, my + mw), (0, 0, 255), 3)\n",
    "            break"
   ]
  },
  {
   "cell_type": "code",
   "execution_count": null,
   "metadata": {},
   "outputs": [],
   "source": [
    "# Show frame with results\n",
    "cv2.imshow('Mask Detection', img)\n",
    "k = cv2.waitKey(30) & 0xff\n",
    "if k == 27:\n",
    "    break"
   ]
  },
  {
   "cell_type": "code",
   "execution_count": null,
   "metadata": {},
   "outputs": [],
   "source": [
    "# Release video\n",
    "cap.release()\n",
    "cv2.destroyAllWindows()"
   ]
  },
  {
   "cell_type": "code",
   "execution_count": null,
   "metadata": {},
   "outputs": [],
   "source": []
  },
  {
   "cell_type": "code",
   "execution_count": null,
   "metadata": {},
   "outputs": [],
   "source": []
  }
 ],
 "metadata": {
  "kernelspec": {
   "display_name": "Python 3",
   "language": "python",
   "name": "python3"
  },
  "language_info": {
   "codemirror_mode": {
    "name": "ipython",
    "version": 3
   },
   "file_extension": ".py",
   "mimetype": "text/x-python",
   "name": "python",
   "nbconvert_exporter": "python",
   "pygments_lexer": "ipython3",
   "version": "3.7.6"
  }
 },
 "nbformat": 4,
 "nbformat_minor": 4
}
